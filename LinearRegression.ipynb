import pandas as pd
import matplotlib.pyplot as plt
import seaborn as sns#used for visualization
df=pd.read_csv(r"C:\Users\sanja\Downloads\archive (1)\temperatures.csv")
df.head()
#input data
x = df['YEAR']
#output data
y=df['ANNUAL']
#plt.figure(figsize=(16,9))
plt.title('Temperature Plot of INDIA')
plt.xlabel('YEAR')
plt.ylabel('Annual Average Temperature')
plt.scatter(x,y)
x.shape
x=x.values#convert x into array
x=x.reshape(117,1) # it is requirement of python library not ml that array shape should be in format of(x,y) so we reshape it)
x.shape
from sklearn.linear_model import LinearRegression
regressor = LinearRegression() #it is object creation
regressor.fit(x,y)
regressor.coef_ #it is slope or called as coefficient#theses are model-parameters and parameters we give to model called as hyper parameters
regressor.intercept_ # it gives value of c from (y=mx+c)
regressor.predict([[2024]])
predicted = regressor.predict(x)
predicted
y #actual value
import numpy as np
#mean abosulte error
np.mean(abs(y-predicted))
from sklearn.metrics import mean_absolute_error
mean_absolute_error(y, predicted)
#mean squared error
np.mean((y-predicted)**2)
from sklearn.metrics import mean_squared_error
mean_squared_error(y, predicted)
from sklearn.metrics import r2_score
r2_score(y,predicted)   # use to tell linearity
#plt.figure(figsize=(16,9))
plt.title('Temperature Plot of INDIA')
plt.xlabel('YEAR')
plt.ylabel('Annual Average Temperature')
plt.scatter(x,y,label='actual',color='pink')
plt.plot(x,predicted,label='predicted',color='g')
plt.legend()
sns.regplot(x='YEAR',y='ANNUAL',data=df)
